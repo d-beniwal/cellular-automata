{
 "cells": [
  {
   "cell_type": "code",
   "execution_count": 4,
   "id": "8f3ad015-5c33-4ce8-8501-e74f92239652",
   "metadata": {},
   "outputs": [],
   "source": [
    "from wolframCA_functions import f_evolve_WolframCA, f_space_time_plot\n",
    "import ipywidgets as ipyw"
   ]
  },
  {
   "cell_type": "code",
   "execution_count": 7,
   "id": "17c3c593-5fd9-463b-956e-8a5f776d14b7",
   "metadata": {},
   "outputs": [],
   "source": [
    "def f_interactive_evolve(sys_size=150, init_type=\"random\", init_rand_state=0, nb_size=3, n_states=2,\n",
    "            BC_type=\"periodic\", c_map=\"summer\", rule_number=18, time_steps=50, plot_type=\"space-time\"):\n",
    "    \n",
    "    print(\"Running...\", end=\"\")\n",
    "    # Evolve system\n",
    "    sys_store_list = f_evolve_WolframCA(sys_size, init_type, init_rand_state, nb_size, n_states, BC_type, rule_number, time_steps)\n",
    "    print(\"DONE.\")\n",
    "    \n",
    "    # Create title of time-space plot\n",
    "    if init_type.lower() in [\"random\", \"r\"]:\n",
    "        plt_title = f\"Rule: {rule_number} || Initialize: '{init_type}-{init_rand_state}', BC: '{BC_type}'\"\n",
    "    else:\n",
    "        plt_title = f\"Rule: {rule_number} || Initialize: '{init_type}', BC: '{BC_type}'\"\n",
    "\n",
    "    if plot_type == \"space-time\":\n",
    "        f_space_time_plot(sys_store_list, c_map, plt_title)\n",
    "    \n",
    "    return None"
   ]
  },
  {
   "cell_type": "markdown",
   "id": "ce9d29da-b3ce-415b-a3c4-1b59613f84e6",
   "metadata": {},
   "source": [
    "# Interactive panel to generate time evolution stack for any system configration"
   ]
  },
  {
   "cell_type": "code",
   "execution_count": 10,
   "id": "30cfaf4b-4a08-470f-aa5a-f158f2f7deec",
   "metadata": {},
   "outputs": [
    {
     "data": {
      "application/vnd.jupyter.widget-view+json": {
       "model_id": "a7844d8851b44be6abc17cf8f66bacf8",
       "version_major": 2,
       "version_minor": 0
      },
      "text/plain": [
       "interactive(children=(IntSlider(value=150, description='sys_size', max=500, min=10), Dropdown(description='ini…"
      ]
     },
     "execution_count": 10,
     "metadata": {},
     "output_type": "execute_result"
    }
   ],
   "source": [
    "c_map_list = [\"brg\", \"viridis\", \"spring\", \"summer\", \"autumn\", \"winter\", \"ocean\", \"terrain\",\n",
    "              \"bone\", \"Set3\", \"Dark2\", \"gist_ncar\"]\n",
    "BC_list = [\"periodic\", \"fixed-1-0\", \"fixed-1-1\", \"fixed-0-1\", \"fixed-0-0\"]\n",
    "\n",
    "ipyw.interactive(f_interactive_evolve, sys_size=(10, 500), init_type=[\"random\", \"centre\"],\n",
    "                 init_rand_state=(0, 100), nb_size=[3], n_states=[2],\n",
    "                 BC_type=BC_list, c_map=c_map_list,\n",
    "                 rule_number=(0, 255), time_steps=(2, 500),\n",
    "                 plot_type=[\"space-time\"])"
   ]
  },
  {
   "cell_type": "code",
   "execution_count": null,
   "id": "afe4fc9e",
   "metadata": {},
   "outputs": [],
   "source": []
  }
 ],
 "metadata": {
  "kernelspec": {
   "display_name": "Python 3 (ipykernel)",
   "language": "python",
   "name": "python3"
  },
  "language_info": {
   "codemirror_mode": {
    "name": "ipython",
    "version": 3
   },
   "file_extension": ".py",
   "mimetype": "text/x-python",
   "name": "python",
   "nbconvert_exporter": "python",
   "pygments_lexer": "ipython3",
   "version": "3.10.2"
  }
 },
 "nbformat": 4,
 "nbformat_minor": 5
}
